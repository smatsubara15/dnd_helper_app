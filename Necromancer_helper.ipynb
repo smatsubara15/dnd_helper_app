{
 "cells": [
  {
   "cell_type": "code",
   "execution_count": 1,
   "id": "c88b01be",
   "metadata": {},
   "outputs": [],
   "source": [
    "import numpy as np\n",
    "import pandas as pd\n",
    "\n",
    "undead = pd.read_csv(\"Undead.csv\")\n",
    "undead_groups = {}\n",
    "num_undead = len(undead)\n",
    "\n",
    "current_undead = pd.DataFrame(columns=[\"Name\",\"Type\",\"Health\"])"
   ]
  },
  {
   "cell_type": "code",
   "execution_count": 2,
   "id": "4df30b66",
   "metadata": {},
   "outputs": [],
   "source": [
    "undead_names = undead['Name']"
   ]
  },
  {
   "cell_type": "code",
   "execution_count": 3,
   "id": "1fde52cf",
   "metadata": {},
   "outputs": [],
   "source": [
    "for i in range(num_undead):\n",
    "    undead_groups[undead_names[i]] = undead.iloc[i,1:]"
   ]
  },
  {
   "cell_type": "code",
   "execution_count": 5,
   "id": "55755ccd",
   "metadata": {},
   "outputs": [
    {
     "name": "stdout",
     "output_type": "stream",
     "text": [
      "Which Undead Are You Using? \n",
      "\n",
      "0: Skeletons\n",
      "1: Zombies\n",
      "Input the Corresponding Number: 1\n"
     ]
    }
   ],
   "source": [
    "def getUndeadType():\n",
    "    cont = True\n",
    "    while True:\n",
    "        print(\"Which Undead Are You Using? \\n\")\n",
    "        for i in range(len(undead_names)):\n",
    "            print(str(i) + \": \" + str(undead_names[i]))\n",
    "        try:\n",
    "            current_ud = int(input(\"Input the Corresponding Number: \"))\n",
    "\n",
    "        except:\n",
    "            print(\"\\nPlease Input a Number Instead of a Character \\n\")\n",
    "            continue\n",
    "\n",
    "        else:\n",
    "            if(current_ud<num_undead):\n",
    "                break\n",
    "            else:\n",
    "                print(\"\\nPlease input a valid number from the given list\")\n",
    "    return current_ud"
   ]
  },
  {
   "cell_type": "code",
   "execution_count": 7,
   "id": "3cae33fa",
   "metadata": {},
   "outputs": [],
   "source": [
    "def AorD():\n",
    "    while True:\n",
    "        try:\n",
    "            AD = input(\"Attacking (A) or Taking Damage (D): \")\n",
    "        except: \n",
    "            print(\"Please input a (A) or (D)\")\n",
    "            continue\n",
    "        else:\n",
    "            break\n",
    "    return AD"
   ]
  },
  {
   "cell_type": "code",
   "execution_count": null,
   "id": "99033a79",
   "metadata": {},
   "outputs": [],
   "source": [
    "def newUndead():\n",
    "    while True:\n",
    "        try:\n",
    "            newUD = input(\"Will you be using a new group of undead (Y/N): \")\n",
    "        except: \n",
    "            print(\"Please input a (Y) or (N)\")\n",
    "            continue\n",
    "        else:\n",
    "            break\n",
    "    if(newUD=='Y'):\n",
    "        return True\n",
    "    else:\n",
    "        return False"
   ]
  },
  {
   "cell_type": "code",
   "execution_count": null,
   "id": "6ec01a87",
   "metadata": {},
   "outputs": [],
   "source": [
    "def main():\n",
    "    while True:\n",
    "        newUndead = True\n",
    "        if(newUndead):\n",
    "            udNum = getUndeadType()         \n",
    "        else:\n"
   ]
  },
  {
   "cell_type": "code",
   "execution_count": 6,
   "id": "b63c93a7",
   "metadata": {},
   "outputs": [
    {
     "name": "stdout",
     "output_type": "stream",
     "text": [
      "Attacking (A) or Taking Damage (D)D\n"
     ]
    }
   ],
   "source": []
  },
  {
   "cell_type": "code",
   "execution_count": 45,
   "id": "9c3704e8",
   "metadata": {},
   "outputs": [],
   "source": [
    "def attacking()"
   ]
  },
  {
   "cell_type": "code",
   "execution_count": 46,
   "id": "f7f85ed8",
   "metadata": {},
   "outputs": [
    {
     "data": {
      "text/plain": [
       "Name      Zombies\n",
       "AC              8\n",
       "Health         22\n",
       "Str             1\n",
       "Dex            -2\n",
       "Con             3\n",
       "Int            -4\n",
       "Wisdom         -2\n",
       "Cha            -3\n",
       "Name: 1, dtype: object"
      ]
     },
     "execution_count": 46,
     "metadata": {},
     "output_type": "execute_result"
    }
   ],
   "source": [
    "undead.iloc[int(x),:]"
   ]
  },
  {
   "cell_type": "code",
   "execution_count": null,
   "id": "f8e2cc06",
   "metadata": {},
   "outputs": [],
   "source": []
  }
 ],
 "metadata": {
  "kernelspec": {
   "display_name": "Python 3 (ipykernel)",
   "language": "python",
   "name": "python3"
  },
  "language_info": {
   "codemirror_mode": {
    "name": "ipython",
    "version": 3
   },
   "file_extension": ".py",
   "mimetype": "text/x-python",
   "name": "python",
   "nbconvert_exporter": "python",
   "pygments_lexer": "ipython3",
   "version": "3.10.5"
  }
 },
 "nbformat": 4,
 "nbformat_minor": 5
}
