{
 "cells": [
  {
   "cell_type": "code",
   "execution_count": null,
   "id": "c88b01be",
   "metadata": {},
   "outputs": [],
   "source": [
    "import numpy as np\n",
    "import pandas as pd\n",
    "\n",
    "undead = pd.read_csv(\"Undead.csv\")\n",
    "undead_groups = {}\n",
    "num_undead = len(undead)"
   ]
  },
  {
   "cell_type": "code",
   "execution_count": 23,
   "id": "4df30b66",
   "metadata": {},
   "outputs": [],
   "source": [
    "undead_names = undead['Name']\n",
    "undead_groups[undead_name] = undead.iloc[1,1:]"
   ]
  },
  {
   "cell_type": "code",
   "execution_count": 24,
   "id": "1fde52cf",
   "metadata": {},
   "outputs": [],
   "source": [
    "for i in range(num_undead):\n",
    "    undead_groups[undead_names[i]] = undead.iloc[i,1:]"
   ]
  },
  {
   "cell_type": "code",
   "execution_count": 28,
   "id": "83f50815",
   "metadata": {},
   "outputs": [
    {
     "name": "stdout",
     "output_type": "stream",
     "text": [
      "Which Undead Are You Using? \n",
      "\n",
      "0: Skeletons\n",
      "1: Zombies\n",
      "Input the Corresponding Number: 1\n"
     ]
    }
   ],
   "source": [
    "print(\"Which Undead Are You Using? \\n\")\n",
    "for i in range(len(undead_names)):\n",
    "    print(str(i) + \": \" + str(undead_names[i]))"
   ]
  },
  {
   "cell_type": "code",
   "execution_count": 29,
   "id": "4800e45d",
   "metadata": {},
   "outputs": [
    {
     "name": "stdout",
     "output_type": "stream",
     "text": [
      "Input the Corresponding Number: 1\n"
     ]
    }
   ],
   "source": [
    "current_ud = input(\"Input the Corresponding Number: \")"
   ]
  },
  {
   "cell_type": "code",
   "execution_count": 36,
   "id": "25fd51ea",
   "metadata": {},
   "outputs": [],
   "source": [
    "cont = True"
   ]
  },
  {
   "cell_type": "code",
   "execution_count": null,
   "id": "55755ccd",
   "metadata": {},
   "outputs": [],
   "source": [
    "while True:\n",
    "    print(\"Which Undead Are You Using? \\n\")\n",
    "    for i in range(len(undead_names)):\n",
    "        print(str(i) + \": \" + str(undead_names[i]))\n",
    "    try:\n",
    "        current_ud = int(input(\"Input the Corresponding Number: \"))\n",
    "        \n",
    "    except:\n",
    "        print(\"Please Input a Number Instead of a Character\"\n",
    "        continue\n",
    "        \n",
    "    else:\n",
    "        if(current_ud<num_undead):\n",
    "            break\n",
    "        else:\n",
    "            print(\"Please input a valid number from the given list\")"
   ]
  },
  {
   "cell_type": "code",
   "execution_count": null,
   "id": "b63c93a7",
   "metadata": {},
   "outputs": [],
   "source": [
    " = input(\"Attacking (A) or Taking Damage (D)\")"
   ]
  },
  {
   "cell_type": "code",
   "execution_count": 45,
   "id": "9c3704e8",
   "metadata": {},
   "outputs": [],
   "source": [
    "x = '1'"
   ]
  },
  {
   "cell_type": "code",
   "execution_count": 46,
   "id": "f7f85ed8",
   "metadata": {},
   "outputs": [
    {
     "data": {
      "text/plain": [
       "Name      Zombies\n",
       "AC              8\n",
       "Health         22\n",
       "Str             1\n",
       "Dex            -2\n",
       "Con             3\n",
       "Int            -4\n",
       "Wisdom         -2\n",
       "Cha            -3\n",
       "Name: 1, dtype: object"
      ]
     },
     "execution_count": 46,
     "metadata": {},
     "output_type": "execute_result"
    }
   ],
   "source": [
    "undead.iloc[int(x),:]"
   ]
  },
  {
   "cell_type": "code",
   "execution_count": null,
   "id": "f8e2cc06",
   "metadata": {},
   "outputs": [],
   "source": []
  }
 ],
 "metadata": {
  "kernelspec": {
   "display_name": "Python 3 (ipykernel)",
   "language": "python",
   "name": "python3"
  },
  "language_info": {
   "codemirror_mode": {
    "name": "ipython",
    "version": 3
   },
   "file_extension": ".py",
   "mimetype": "text/x-python",
   "name": "python",
   "nbconvert_exporter": "python",
   "pygments_lexer": "ipython3",
   "version": "3.10.5"
  }
 },
 "nbformat": 4,
 "nbformat_minor": 5
}
